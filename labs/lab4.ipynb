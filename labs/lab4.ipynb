{
 "cells": [
  {
   "cell_type": "code",
   "execution_count": 1,
   "id": "a90b6c93-32cf-4ccf-a89f-99e908b333a1",
   "metadata": {},
   "outputs": [],
   "source": [
    "import pandas as pd\n",
    "import numpy as np"
   ]
  },
  {
   "cell_type": "code",
   "execution_count": 2,
   "id": "2c3d3584-dd9d-4a39-915f-6409587f6bd3",
   "metadata": {},
   "outputs": [],
   "source": [
    "train_df = pd.read_csv('train.csv')\n",
    "test_df = pd.read_csv('test.csv')"
   ]
  },
  {
   "cell_type": "code",
   "execution_count": 3,
   "id": "a20cec43-ba07-4837-950d-2957b64a0658",
   "metadata": {},
   "outputs": [
    {
     "name": "stdout",
     "output_type": "stream",
     "text": [
      "Index(['PassengerId', 'HomePlanet', 'CryoSleep', 'Cabin', 'Destination', 'Age',\n",
      "       'VIP', 'RoomService', 'FoodCourt', 'ShoppingMall', 'Spa', 'VRDeck',\n",
      "       'Name', 'Transported'],\n",
      "      dtype='object')\n"
     ]
    }
   ],
   "source": [
    "print(train_df.columns)"
   ]
  },
  {
   "cell_type": "code",
   "execution_count": 4,
   "id": "d21ff8be-ac3d-4abe-b159-6a4d519ad061",
   "metadata": {},
   "outputs": [
    {
     "name": "stdout",
     "output_type": "stream",
     "text": [
      "Index(['PassengerId', 'HomePlanet', 'CryoSleep', 'Cabin', 'Destination', 'Age',\n",
      "       'VIP', 'RoomService', 'FoodCourt', 'ShoppingMall', 'Spa', 'VRDeck',\n",
      "       'Name'],\n",
      "      dtype='object')\n"
     ]
    }
   ],
   "source": [
    "print(test_df.columns)"
   ]
  },
  {
   "cell_type": "code",
   "execution_count": 5,
   "id": "1a0617f7-da7e-418e-bb99-c4fd4fc10214",
   "metadata": {},
   "outputs": [
    {
     "name": "stdout",
     "output_type": "stream",
     "text": [
      "(4277, 13)\n",
      "(4277, 11)\n"
     ]
    }
   ],
   "source": [
    "import pandas as pd\n",
    "from sklearn.preprocessing import LabelEncoder\n",
    "from sklearn.model_selection import train_test_split\n",
    "from sklearn.preprocessing import StandardScaler\n",
    "\n",
    "# Load train and test datasets\n",
    "train_data = pd.read_csv('train.csv')\n",
    "test_data = pd.read_csv('test.csv')\n",
    "print(test_data.shape)\n",
    "# Drop irrelevant columns\n",
    "train_data = train_data.drop(['Name', 'Cabin'], axis=1)\n",
    "test_data = test_data.drop(['Name', 'Cabin'], axis=1)\n",
    "\n",
    "# Handle missing values\n",
    "train_data = train_data.fillna('0')\n",
    "test_data = test_data.fillna('0')\n",
    "print(test_data.shape)\n",
    "\n",
    "# Encode categorical variables\n",
    "le_homeplanet = LabelEncoder()\n",
    "le_destination = LabelEncoder()\n",
    "\n",
    "train_data['HomePlanet'] = le_homeplanet.fit_transform(train_data['HomePlanet'])\n",
    "train_data['Destination'] = le_destination.fit_transform(train_data['Destination'])\n",
    "\n",
    "# Apply the same encoding to the test set\n",
    "test_data['HomePlanet'] = le_homeplanet.transform(test_data['HomePlanet'])\n",
    "test_data['Destination'] = le_destination.transform(test_data['Destination'])\n",
    "\n",
    "# Split the data into features and target variable\n",
    "X = train_data.drop('Transported', axis=1)\n",
    "y = train_data['Transported']\n",
    "\n",
    "# Split the dataset into training and testing sets\n",
    "X_train, X_test, y_train, y_test = train_test_split(X, y, test_size=0.2, random_state=42)\n",
    "\n",
    "# Standardize numerical features\n",
    "scaler = StandardScaler()\n",
    "X_train = scaler.fit_transform(X_train)\n",
    "X_test = scaler.transform(X_test)\n"
   ]
  },
  {
   "cell_type": "code",
   "execution_count": 6,
   "id": "621a9843-1a79-4db1-8a46-346d52edd219",
   "metadata": {},
   "outputs": [],
   "source": [
    "import numpy as np\n",
    "\n",
    "class KNNClassifier:\n",
    "    def __init__(self, k=3):\n",
    "        self.k = k\n",
    "\n",
    "    def fit(self, X_train, y_train):\n",
    "        self.X_train = X_train\n",
    "        self.y_train = y_train\n",
    "\n",
    "    def predict(self, X_test):\n",
    "        predictions = []\n",
    "        for x in X_test:\n",
    "            distances = np.linalg.norm(self.X_train - x, axis=1)\n",
    "            indices = np.argsort(distances)[:self.k]\n",
    "            k_nearest_labels = self.y_train.iloc[indices]\n",
    "            prediction = np.bincount(k_nearest_labels).argmax()\n",
    "            predictions.append(prediction)\n",
    "        return np.array(predictions)\n"
   ]
  },
  {
   "cell_type": "code",
   "execution_count": 7,
   "id": "2ab7d0ef-50d7-4bf5-bf3d-14531de3d309",
   "metadata": {},
   "outputs": [
    {
     "name": "stdout",
     "output_type": "stream",
     "text": [
      "Accuracy (Handmade): 0.7446808510638298\n",
      "Accuracy (Scikit-learn): 0.7446808510638298\n",
      "\n",
      "Confusion Matrix (Handmade):\n",
      "[[629 232]\n",
      " [212 666]]\n",
      "\n",
      "Confusion Matrix (Scikit-learn):\n",
      "[[629 232]\n",
      " [212 666]]\n"
     ]
    }
   ],
   "source": [
    "from sklearn.neighbors import KNeighborsClassifier\n",
    "from sklearn.metrics import accuracy_score, confusion_matrix\n",
    "\n",
    "# Handmade KNN Classifier\n",
    "knn_handmade = KNNClassifier(k=3)\n",
    "knn_handmade.fit(X_train, y_train)\n",
    "y_pred_handmade = knn_handmade.predict(X_test)\n",
    "\n",
    "# Scikit-learn KNN Classifier\n",
    "knn_sklearn = KNeighborsClassifier(n_neighbors=3)\n",
    "knn_sklearn.fit(X_train, y_train)\n",
    "y_pred_sklearn = knn_sklearn.predict(X_test)\n",
    "\n",
    "# Evaluate accuracy\n",
    "accuracy_handmade = accuracy_score(y_test, y_pred_handmade)\n",
    "accuracy_sklearn = accuracy_score(y_test, y_pred_sklearn)\n",
    "\n",
    "# Confusion matrix\n",
    "conf_matrix_handmade = confusion_matrix(y_test, y_pred_handmade)\n",
    "conf_matrix_sklearn = confusion_matrix(y_test, y_pred_sklearn)\n",
    "\n",
    "print(f\"Accuracy (Handmade): {accuracy_handmade}\")\n",
    "print(f\"Accuracy (Scikit-learn): {accuracy_sklearn}\")\n",
    "\n",
    "print(\"\\nConfusion Matrix (Handmade):\")\n",
    "print(conf_matrix_handmade)\n",
    "\n",
    "print(\"\\nConfusion Matrix (Scikit-learn):\")\n",
    "print(conf_matrix_sklearn)\n"
   ]
  },
  {
   "cell_type": "code",
   "execution_count": 8,
   "id": "951bae82-eaea-4106-80bb-a967a26bd15a",
   "metadata": {},
   "outputs": [
    {
     "name": "stdout",
     "output_type": "stream",
     "text": [
      "smthing\n"
     ]
    }
   ],
   "source": [
    "passenger_id = test_data['PassengerId']\n",
    "\n",
    "# Drop only the columns that exist in the test data\n",
    "columns_to_drop = ['Name', 'Cabin']\n",
    "test_data = test_data.drop(columns_to_drop, axis=1, errors='ignore')\n",
    "\n",
    "# Get the feature names used during training\n",
    "feature_names_train = X.columns.tolist()\n",
    "\n",
    "# Keep only the features used during training in the test set\n",
    "test_data = test_data[feature_names_train]\n",
    "\n",
    "# Assuming knn_handmade is your trained handmade KNN model\n",
    "predictions = knn_handmade.predict(scaler.transform(test_data))\n",
    "\n",
    "# Map 0 and 1 to 'False' and 'True'\n",
    "predictions_mapped = np.where(predictions == 1, 'True', 'False')\n",
    "\n",
    "# Select the first 4277 rows\n",
    "result_df = pd.DataFrame({'PassengerId': passenger_id[:4277], 'Transported': predictions_mapped[:4277]})\n",
    "\n",
    "# Save the DataFrame to a new CSV file\n",
    "result_df.to_csv('predicted_transportation12.csv', index=False)\n",
    "print('smthing')"
   ]
  },
  {
   "cell_type": "code",
   "execution_count": 9,
   "id": "6190c8ba-bdba-4d56-b070-ff85b2ead6be",
   "metadata": {},
   "outputs": [
    {
     "name": "stdout",
     "output_type": "stream",
     "text": [
      "The CSV file has 4277 rows.\n"
     ]
    }
   ],
   "source": [
    "import pandas as pd\n",
    "\n",
    "# Load the CSV file\n",
    "df = pd.read_csv('predicted_transportation12.csv')\n",
    "\n",
    "# Get the number of rows\n",
    "num_rows = len(df)\n",
    "\n",
    "# Print the result\n",
    "print(f'The CSV file has {num_rows} rows.')\n"
   ]
  },
  {
   "cell_type": "code",
   "execution_count": null,
   "id": "e14194e5-483d-4cb7-9ecd-a191794d141f",
   "metadata": {},
   "outputs": [],
   "source": []
  }
 ],
 "metadata": {
  "kernelspec": {
   "display_name": "Python 3 (ipykernel)",
   "language": "python",
   "name": "python3"
  },
  "language_info": {
   "codemirror_mode": {
    "name": "ipython",
    "version": 3
   },
   "file_extension": ".py",
   "mimetype": "text/x-python",
   "name": "python",
   "nbconvert_exporter": "python",
   "pygments_lexer": "ipython3",
   "version": "3.11.0"
  }
 },
 "nbformat": 4,
 "nbformat_minor": 5
}
