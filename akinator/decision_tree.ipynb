{
 "cells": [
  {
   "cell_type": "code",
   "execution_count": 11,
   "id": "aeb07f59-33c5-4d5f-9b42-6bf0ecd4e6b7",
   "metadata": {},
   "outputs": [
    {
     "name": "stdout",
     "output_type": "stream",
     "text": [
      "Welcome to Akinator Game!\n"
     ]
    },
    {
     "name": "stdin",
     "output_type": "stream",
     "text": [
      "Do your fighter have more than 4 losses? (yes/no):  no\n",
      "Do your fighter have more than 6 losses? (yes/no):  no\n",
      "Do your fighter have more than 25 wins? (yes/no):  yes\n",
      "Do your fighter is male? (yes/no):  yes\n",
      "Do your fighter is older than 35? (yes/no):  yes\n",
      "Do your fighter was chempion? (yes/no):  yes\n",
      "Do your fighter is retired? (yes/no):  yes\n",
      "Do your fighter have more than 20 wins? (yes/no):  yes\n",
      "Do your fighter have more than 2 losses? (yes/no):  no\n",
      "Do your fighter is Striker? (yes/no):  no\n",
      "Do your fighter in Men's Flyweight division? (yes/no):  no\n",
      "Do your fighter in Men's Heavyweight division? (yes/no):  no\n",
      "Do your fighter in Men's Lightweight division? (yes/no):  yes\n",
      "Do your fighter is undefeted? (yes/no):  yes\n",
      "Do your fighter have more than 15 wins? (yes/no):  yes\n",
      "Do your fighter have orthodox fight style? (yes/no):  yes\n",
      "Do your fighter have southpaw fight style? (yes/no):  no\n",
      "Do your fighter have switch fight style? (yes/no):  no\n",
      "Do your fighter is female? (yes/no):  no\n",
      "Do your fighter is older than 40? (yes/no):  no\n",
      "Do your fighter have draw? (yes/no):  no\n",
      "Do your fighter in Men's Bantamweight division? (yes/no):  no\n",
      "Do your fighter in Men's Light Heavyweight division? (yes/no):  no\n",
      "Do your fighter in Men's Welterweight division? (yes/no):  no\n",
      "Do your fighter in Women's Bantamweight division? (yes/no):  no\n",
      "Do your fighter Is Current Champion? (yes/no):  no\n",
      "Do your fighter have more than 5 wins? (yes/no):  yes\n",
      "Do your fighter have more than 10 wins? (yes/no):  yes\n",
      "Do your fighter have more than 8 losses? (yes/no):  no\n",
      "Do your fighter have more than 10 losses? (yes/no):  no\n",
      "Do your fighter is Grapler? (yes/no):  yes\n",
      "Do your fighter is older than 20? (yes/no):  yes\n",
      "Do your fighter is older than 25? (yes/no):  yes\n",
      "Do your fighter is older than 30? (yes/no):  yes\n",
      "Do your fighter in Women's Strawweight division? (yes/no):  no\n"
     ]
    },
    {
     "name": "stdout",
     "output_type": "stream",
     "text": [
      "Khabib Nurmagomedov: 100.00%\n",
      "The final predicted person is: Khabib Nurmagomedov\n"
     ]
    }
   ],
   "source": [
    "import pandas as pd\n",
    "from sklearn.tree import DecisionTreeClassifier\n",
    "\n",
    "# Assuming 'name' is the target column to predict\n",
    "# Load your DataFrame (replace 'your_data.csv' with your actual data file)\n",
    "df = pd.read_csv('final_dataset.csv')\n",
    "\n",
    "X = df.drop(['name'], axis=1)\n",
    "y = df['name']\n",
    "\n",
    "# Train the decision tree model\n",
    "model = DecisionTreeClassifier()\n",
    "model.fit(X, y)\n",
    "\n",
    "# Console-based app\n",
    "print(\"Welcome to Akinator Game!\")\n",
    "\n",
    "# Initialize user answers dictionary\n",
    "user_answers = {}\n",
    "\n",
    "# Ask questions based on feature importance\n",
    "for feature, importance in sorted(zip(X.columns, model.feature_importances_), key=lambda x: x[1], reverse=True):\n",
    "    user_answer = input(f\"Do your fighter {feature}? (yes/no): \").lower()\n",
    "\n",
    "    # Validate input\n",
    "    while user_answer not in ['yes', 'no']:\n",
    "        print(\"Invalid input. Please enter 'yes' or 'no'.\")\n",
    "        user_answer = input(f\"Do your fighter {feature}? (yes/no): \").lower()\n",
    "\n",
    "    user_answers[feature] = True if user_answer == 'yes' else False\n",
    "\n",
    "# Predict the name based on user answers\n",
    "final_prediction = model.predict(pd.DataFrame(user_answers, columns=X.columns, index=[0]))[0]\n",
    "\n",
    "# Get all suitable fighters based on the final prediction\n",
    "suitable_fighters = df[df['name'] == final_prediction]\n",
    "\n",
    "# Display the percentage for each fighter\n",
    "for _, fighter in suitable_fighters.iterrows():\n",
    "    print(f\"{fighter['name']}: 100.00%\")\n",
    "\n",
    "print(f\"The final predicted person is: {final_prediction}\")\n"
   ]
  },
  {
   "cell_type": "code",
   "execution_count": 23,
   "id": "8376c42d-10bb-40c2-bbb7-95c39386d53a",
   "metadata": {},
   "outputs": [
    {
     "name": "stdout",
     "output_type": "stream",
     "text": [
      "Welcome to Akinator Game!\n"
     ]
    },
    {
     "name": "stdin",
     "output_type": "stream",
     "text": [
      "Do your fighter have more than 20 wins? (yes/no):  yes\n"
     ]
    },
    {
     "name": "stdout",
     "output_type": "stream",
     "text": [
      "\n",
      "Suitable Fighters:\n",
      "Dominick Cruz\n"
     ]
    },
    {
     "name": "stdin",
     "output_type": "stream",
     "text": [
      "Do your fighter in Men's Heavyweight division? (yes/no):  no\n"
     ]
    },
    {
     "name": "stdout",
     "output_type": "stream",
     "text": [
      "\n",
      "Suitable Fighters:\n",
      "Dominick Cruz\n"
     ]
    },
    {
     "name": "stdin",
     "output_type": "stream",
     "text": [
      "Do your fighter in Men's Lightweight division? (yes/no):  yes\n"
     ]
    },
    {
     "name": "stdout",
     "output_type": "stream",
     "text": [
      "\n",
      "Suitable Fighters:\n",
      "Dominick Cruz\n"
     ]
    },
    {
     "name": "stdin",
     "output_type": "stream",
     "text": [
      "Do your fighter is retired? (yes/no):  yes\n"
     ]
    },
    {
     "name": "stdout",
     "output_type": "stream",
     "text": [
      "\n",
      "Suitable Fighters:\n"
     ]
    },
    {
     "name": "stdin",
     "output_type": "stream",
     "text": [
      "Do your fighter have more than 4 losses? (yes/no):  no\n"
     ]
    },
    {
     "name": "stdout",
     "output_type": "stream",
     "text": [
      "\n",
      "Suitable Fighters:\n"
     ]
    },
    {
     "name": "stdin",
     "output_type": "stream",
     "text": [
      "Do your fighter have southpaw fight style? (yes/no):  no\n"
     ]
    },
    {
     "name": "stdout",
     "output_type": "stream",
     "text": [
      "\n",
      "Suitable Fighters:\n"
     ]
    },
    {
     "name": "stdin",
     "output_type": "stream",
     "text": [
      "Do your fighter is Striker? (yes/no):  no\n"
     ]
    },
    {
     "name": "stdout",
     "output_type": "stream",
     "text": [
      "\n",
      "Suitable Fighters:\n"
     ]
    },
    {
     "name": "stdin",
     "output_type": "stream",
     "text": [
      "Do your fighter have draw? (yes/no):  no\n"
     ]
    },
    {
     "name": "stdout",
     "output_type": "stream",
     "text": [
      "\n",
      "Suitable Fighters:\n"
     ]
    },
    {
     "name": "stdin",
     "output_type": "stream",
     "text": [
      "Do your fighter was chempion? (yes/no):  yes\n"
     ]
    },
    {
     "name": "stdout",
     "output_type": "stream",
     "text": [
      "\n",
      "Suitable Fighters:\n"
     ]
    },
    {
     "name": "stdin",
     "output_type": "stream",
     "text": [
      "Do your fighter have more than 2 losses? (yes/no):  no\n"
     ]
    },
    {
     "name": "stdout",
     "output_type": "stream",
     "text": [
      "\n",
      "Suitable Fighters:\n"
     ]
    },
    {
     "name": "stdin",
     "output_type": "stream",
     "text": [
      "Do your fighter have more than 6 losses? (yes/no):  no\n"
     ]
    },
    {
     "name": "stdout",
     "output_type": "stream",
     "text": [
      "\n",
      "Suitable Fighters:\n"
     ]
    },
    {
     "name": "stdin",
     "output_type": "stream",
     "text": [
      "Do your fighter is older than 30? (yes/no):  yes\n"
     ]
    },
    {
     "name": "stdout",
     "output_type": "stream",
     "text": [
      "\n",
      "Suitable Fighters:\n"
     ]
    },
    {
     "name": "stdin",
     "output_type": "stream",
     "text": [
      "Do your fighter in Men's Flyweight division? (yes/no):  no\n"
     ]
    },
    {
     "name": "stdout",
     "output_type": "stream",
     "text": [
      "\n",
      "Suitable Fighters:\n"
     ]
    },
    {
     "name": "stdin",
     "output_type": "stream",
     "text": [
      "Do your fighter in Women's Bantamweight division? (yes/no):  no\n"
     ]
    },
    {
     "name": "stdout",
     "output_type": "stream",
     "text": [
      "\n",
      "Suitable Fighters:\n"
     ]
    },
    {
     "name": "stdin",
     "output_type": "stream",
     "text": [
      "Do your fighter is undefeted? (yes/no):  yes\n"
     ]
    },
    {
     "name": "stdout",
     "output_type": "stream",
     "text": [
      "\n",
      "Suitable Fighters:\n"
     ]
    },
    {
     "name": "stdin",
     "output_type": "stream",
     "text": [
      "Do your fighter have more than 15 wins? (yes/no):  yes\n"
     ]
    },
    {
     "name": "stdout",
     "output_type": "stream",
     "text": [
      "\n",
      "Suitable Fighters:\n"
     ]
    },
    {
     "name": "stdin",
     "output_type": "stream",
     "text": [
      "Do your fighter have more than 25 wins? (yes/no):  yes\n"
     ]
    },
    {
     "name": "stdout",
     "output_type": "stream",
     "text": [
      "\n",
      "Suitable Fighters:\n"
     ]
    },
    {
     "name": "stdin",
     "output_type": "stream",
     "text": [
      "Do your fighter have more than 8 losses? (yes/no):  no\n"
     ]
    },
    {
     "name": "stdout",
     "output_type": "stream",
     "text": [
      "\n",
      "Suitable Fighters:\n"
     ]
    },
    {
     "name": "stdin",
     "output_type": "stream",
     "text": [
      "Do your fighter have more than 10 losses? (yes/no):  no\n"
     ]
    },
    {
     "name": "stdout",
     "output_type": "stream",
     "text": [
      "\n",
      "Suitable Fighters:\n"
     ]
    },
    {
     "name": "stdin",
     "output_type": "stream",
     "text": [
      "Do your fighter have orthodox fight style? (yes/no):  yes\n"
     ]
    },
    {
     "name": "stdout",
     "output_type": "stream",
     "text": [
      "\n",
      "Suitable Fighters:\n"
     ]
    },
    {
     "name": "stdin",
     "output_type": "stream",
     "text": [
      "Do your fighter is male? (yes/no):  yes\n"
     ]
    },
    {
     "name": "stdout",
     "output_type": "stream",
     "text": [
      "\n",
      "Suitable Fighters:\n"
     ]
    },
    {
     "name": "stdin",
     "output_type": "stream",
     "text": [
      "Do your fighter is older than 40? (yes/no):  no\n"
     ]
    },
    {
     "name": "stdout",
     "output_type": "stream",
     "text": [
      "\n",
      "Suitable Fighters:\n"
     ]
    },
    {
     "name": "stdin",
     "output_type": "stream",
     "text": [
      "Do your fighter in Men's Bantamweight division? (yes/no):  no\n"
     ]
    },
    {
     "name": "stdout",
     "output_type": "stream",
     "text": [
      "\n",
      "Suitable Fighters:\n"
     ]
    },
    {
     "name": "stdin",
     "output_type": "stream",
     "text": [
      "Do your fighter Is Current Champion? (yes/no):  no\n"
     ]
    },
    {
     "name": "stdout",
     "output_type": "stream",
     "text": [
      "\n",
      "Suitable Fighters:\n"
     ]
    },
    {
     "name": "stdin",
     "output_type": "stream",
     "text": [
      "Do your fighter have more than 5 wins? (yes/no):  yes\n"
     ]
    },
    {
     "name": "stdout",
     "output_type": "stream",
     "text": [
      "\n",
      "Suitable Fighters:\n"
     ]
    },
    {
     "name": "stdin",
     "output_type": "stream",
     "text": [
      "Do your fighter have more than 10 wins? (yes/no):  yes\n"
     ]
    },
    {
     "name": "stdout",
     "output_type": "stream",
     "text": [
      "\n",
      "Suitable Fighters:\n"
     ]
    },
    {
     "name": "stdin",
     "output_type": "stream",
     "text": [
      "Do your fighter have switch fight style? (yes/no):  no\n"
     ]
    },
    {
     "name": "stdout",
     "output_type": "stream",
     "text": [
      "\n",
      "Suitable Fighters:\n"
     ]
    },
    {
     "name": "stdin",
     "output_type": "stream",
     "text": [
      "Do your fighter is Grapler? (yes/no):  yes\n"
     ]
    },
    {
     "name": "stdout",
     "output_type": "stream",
     "text": [
      "\n",
      "Suitable Fighters:\n"
     ]
    },
    {
     "name": "stdin",
     "output_type": "stream",
     "text": [
      "Do your fighter is female? (yes/no):  no\n"
     ]
    },
    {
     "name": "stdout",
     "output_type": "stream",
     "text": [
      "\n",
      "Suitable Fighters:\n"
     ]
    },
    {
     "name": "stdin",
     "output_type": "stream",
     "text": [
      "Do your fighter is older than 20? (yes/no):  yes\n"
     ]
    },
    {
     "name": "stdout",
     "output_type": "stream",
     "text": [
      "\n",
      "Suitable Fighters:\n"
     ]
    },
    {
     "name": "stdin",
     "output_type": "stream",
     "text": [
      "Do your fighter is older than 25? (yes/no):  yes\n"
     ]
    },
    {
     "name": "stdout",
     "output_type": "stream",
     "text": [
      "\n",
      "Suitable Fighters:\n"
     ]
    },
    {
     "name": "stdin",
     "output_type": "stream",
     "text": [
      "Do your fighter is older than 35? (yes/no):  yes\n"
     ]
    },
    {
     "name": "stdout",
     "output_type": "stream",
     "text": [
      "\n",
      "Suitable Fighters:\n"
     ]
    },
    {
     "name": "stdin",
     "output_type": "stream",
     "text": [
      "Do your fighter in Men's Light Heavyweight division? (yes/no):  no\n"
     ]
    },
    {
     "name": "stdout",
     "output_type": "stream",
     "text": [
      "\n",
      "Suitable Fighters:\n"
     ]
    },
    {
     "name": "stdin",
     "output_type": "stream",
     "text": [
      "Do your fighter in Men's Welterweight division? (yes/no):  no\n"
     ]
    },
    {
     "name": "stdout",
     "output_type": "stream",
     "text": [
      "\n",
      "Suitable Fighters:\n"
     ]
    },
    {
     "name": "stdin",
     "output_type": "stream",
     "text": [
      "Do your fighter in Women's Strawweight division? (yes/no):  no\n"
     ]
    },
    {
     "name": "stdout",
     "output_type": "stream",
     "text": [
      "\n",
      "Suitable Fighters:\n",
      "\n",
      "Final Suitable Fighters:\n",
      "\n",
      "The final predicted person is: Khabib Nurmagomedov\n"
     ]
    }
   ],
   "source": [
    "import pandas as pd\n",
    "from sklearn.tree import DecisionTreeClassifier\n",
    "\n",
    "# Assuming 'name' is the target column to predict\n",
    "# Load your DataFrame (replace 'final_dataset.csv' with your actual data file)\n",
    "df = pd.read_csv('final_dataset.csv')\n",
    "\n",
    "X = df.drop(['name'], axis=1)\n",
    "y = df['name']\n",
    "\n",
    "# Train the decision tree model\n",
    "model = DecisionTreeClassifier()\n",
    "model.fit(X, y)\n",
    "\n",
    "# Console-based app\n",
    "print(\"Welcome to Akinator Game!\")\n",
    "\n",
    "# Initialize user answers dictionary\n",
    "user_answers = {}\n",
    "\n",
    "# Initialize the list of suitable fighters with all fighters\n",
    "suitable_fighters = df.copy()\n",
    "\n",
    "# Ask questions based on feature importance\n",
    "for feature, importance in sorted(zip(X.columns, model.feature_importances_), key=lambda x: x[1], reverse=True):\n",
    "    user_answer = input(f\"Do your fighter {feature}? (yes/no): \").lower()\n",
    "\n",
    "    # Validate input\n",
    "    while user_answer not in ['yes', 'no']:\n",
    "        print(\"Invalid input. Please enter 'yes' or 'no'.\")\n",
    "        user_answer = input(f\"Do your fighter {feature}? (yes/no): \").lower()\n",
    "\n",
    "    user_answers[feature] = True if user_answer == 'yes' else False\n",
    "\n",
    "    # Update the list of suitable fighters based on the current user answers\n",
    "    prediction = model.predict(pd.DataFrame(user_answers, columns=X.columns, index=[0]))[0]\n",
    "    suitable_fighters = suitable_fighters[suitable_fighters['name'] == prediction]\n",
    "\n",
    "    # Display information about the current suitable fighters\n",
    "    print(\"\\nSuitable Fighters:\")\n",
    "    for _, fighter in suitable_fighters.iterrows():\n",
    "        print(f\"{fighter['name']}\")\n",
    "\n",
    "# Get final prediction based on all user answers\n",
    "final_prediction = model.predict(pd.DataFrame(user_answers, columns=X.columns, index=[0]))[0]\n",
    "\n",
    "# Display the percentage for each fighter in the final list of suitable fighters\n",
    "print(\"\\nFinal Suitable Fighters:\")\n",
    "for _, fighter in suitable_fighters.iterrows():\n",
    "    print(f\"{fighter['name']}: 100.00%\")\n",
    "\n",
    "print(f\"\\nThe final predicted person is: {final_prediction}\")\n"
   ]
  },
  {
   "cell_type": "code",
   "execution_count": null,
   "id": "c491d4c9-ce6f-47be-825f-56063e4bf601",
   "metadata": {},
   "outputs": [
    {
     "name": "stdout",
     "output_type": "stream",
     "text": [
      "Welcome to Akinator Game!\n"
     ]
    },
    {
     "name": "stdin",
     "output_type": "stream",
     "text": [
      "Do your fighter is older than 35? (yes/no):  yes\n"
     ]
    },
    {
     "name": "stdout",
     "output_type": "stream",
     "text": [
      "\n",
      "Suitable Fighters:\n",
      "Francis Ngannou\n"
     ]
    },
    {
     "name": "stdin",
     "output_type": "stream",
     "text": [
      "Do your fighter have draw? (yes/no):  no\n"
     ]
    },
    {
     "name": "stdout",
     "output_type": "stream",
     "text": [
      "\n",
      "Suitable Fighters:\n",
      "Francis Ngannou\n"
     ]
    }
   ],
   "source": [
    "import pandas as pd\n",
    "from sklearn.tree import DecisionTreeClassifier\n",
    "\n",
    "# Assuming 'name' is the target column to predict\n",
    "# Load your DataFrame (replace 'final_dataset.csv' with your actual data file)\n",
    "df = pd.read_csv('final_dataset.csv')\n",
    "\n",
    "X = df.drop(['name'], axis=1)\n",
    "y = df['name']\n",
    "\n",
    "# Train the decision tree model\n",
    "model = DecisionTreeClassifier()\n",
    "model.fit(X, y)\n",
    "\n",
    "# Console-based app\n",
    "print(\"Welcome to Akinator Game!\")\n",
    "\n",
    "# Initialize user answers dictionary\n",
    "user_answers = {}\n",
    "\n",
    "# Initialize the list of suitable fighters with all fighters\n",
    "suitable_fighters = df.copy()\n",
    "\n",
    "# Ask questions based on feature importance\n",
    "for feature, importance in sorted(zip(X.columns, model.feature_importances_), key=lambda x: x[1], reverse=True):\n",
    "    user_answer = input(f\"Do your fighter {feature}? (yes/no): \").lower()\n",
    "\n",
    "    # Validate input\n",
    "    while user_answer not in ['yes', 'no']:\n",
    "        print(\"Invalid input. Please enter 'yes' or 'no'.\")\n",
    "        user_answer = input(f\"Do your fighter {feature}? (yes/no): \").lower()\n",
    "\n",
    "    user_answers[feature] = True if user_answer == 'yes' else False\n",
    "\n",
    "    # Update the list of suitable fighters based on the current user answers\n",
    "    prediction = model.predict(pd.DataFrame(user_answers, columns=X.columns, index=[0]))[0]\n",
    "    suitable_fighters = suitable_fighters[suitable_fighters['name'] == prediction]\n",
    "\n",
    "    # Display information about the current suitable fighters\n",
    "    print(\"\\nSuitable Fighters:\")\n",
    "    for _, fighter in suitable_fighters.iterrows():\n",
    "        print(f\"{fighter['name']}\")\n",
    "\n",
    "# Get final prediction based on all user answers\n",
    "final_prediction = model.predict(pd.DataFrame(user_answers, columns=X.columns, index=[0]))[0]\n",
    "\n",
    "# Display the percentage for each fighter in the final list of suitable fighters\n",
    "print(\"\\nFinal Suitable Fighters:\")\n",
    "for _, fighter in suitable_fighters.iterrows():\n",
    "    print(f\"{fighter['name']}: 100.00%\")\n",
    "\n",
    "print(f\"\\nThe final predicted person is: {final_prediction}\")\n"
   ]
  },
  {
   "cell_type": "code",
   "execution_count": null,
   "id": "2372a4b0-e5ed-4064-9850-d2aa494f6fb9",
   "metadata": {},
   "outputs": [],
   "source": []
  }
 ],
 "metadata": {
  "kernelspec": {
   "display_name": "Python 3 (ipykernel)",
   "language": "python",
   "name": "python3"
  },
  "language_info": {
   "codemirror_mode": {
    "name": "ipython",
    "version": 3
   },
   "file_extension": ".py",
   "mimetype": "text/x-python",
   "name": "python",
   "nbconvert_exporter": "python",
   "pygments_lexer": "ipython3",
   "version": "3.11.0"
  }
 },
 "nbformat": 4,
 "nbformat_minor": 5
}
